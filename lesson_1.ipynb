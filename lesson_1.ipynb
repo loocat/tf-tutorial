{
 "cells": [
  {
   "cell_type": "code",
   "execution_count": 15,
   "metadata": {
    "collapsed": true
   },
   "outputs": [],
   "source": [
    "# 1.1 Import tensorflow and other libraries\n",
    "import tensorflow as tf\n",
    "import numpy as np\n",
    "\n",
    "%matplotlib inline\n",
    "import pylab"
   ]
  },
  {
   "cell_type": "code",
   "execution_count": 16,
   "metadata": {
    "collapsed": true
   },
   "outputs": [],
   "source": [
    "# 1.2 Create input data using numpy. y = x * 0.1 + 0.3 + noise\n",
    "x_data = np.random.rand(100).astype(np.float32)\n",
    "noise = np.random.normal(scale = 0.01, size=len(x_data))\n",
    "y_data = x_data * 0.1 + 0.3 + noise\n",
    "\n",
    "# Plot input data\n",
    "# pylab.plot(x_data, y_data, '.')"
   ]
  },
  {
   "cell_type": "code",
   "execution_count": 17,
   "metadata": {},
   "outputs": [
    {
     "name": "stdout",
     "output_type": "stream",
     "text": [
      "<tf.Variable 'Variable_2:0' shape=(1,) dtype=float32_ref>\n",
      "<tf.Variable 'Variable_3:0' shape=(1,) dtype=float32_ref>\n"
     ]
    }
   ],
   "source": [
    "# 1.3 Build inference graph\n",
    "# Create variables W and b that compute y_data = W * x_data _ b\n",
    "W = tf.Variable(tf.random_uniform([1], 0.0, 1.0))\n",
    "b = tf.Variable(tf.zeros([1]))\n",
    "y = W * x_data + b\n",
    "\n",
    "# See W and b\n",
    "print(W)\n",
    "print(b)"
   ]
  },
  {
   "cell_type": "code",
   "execution_count": 18,
   "metadata": {},
   "outputs": [
    {
     "name": "stdout",
     "output_type": "stream",
     "text": [
      "Tensor(\"add_1:0\", shape=(100,), dtype=float32)\n"
     ]
    }
   ],
   "source": [
    "print(y)"
   ]
  },
  {
   "cell_type": "code",
   "execution_count": 19,
   "metadata": {},
   "outputs": [
    {
     "name": "stdout",
     "output_type": "stream",
     "text": [
      "WARNING:tensorflow:From C:\\Users\\hjkim\\Anaconda3\\lib\\site-packages\\tensorflow\\python\\util\\tf_should_use.py:170: initialize_all_variables (from tensorflow.python.ops.variables) is deprecated and will be removed after 2017-03-02.\n",
      "Instructions for updating:\n",
      "Use `tf.global_variables_initializer` instead.\n",
      "loss: Tensor(\"Mean_1:0\", shape=(), dtype=float32)\n",
      "optimizer: <tensorflow.python.training.gradient_descent.GradientDescentOptimizer object at 0x00000000070A5DD8>\n",
      "train: name: \"GradientDescent_1\"\n",
      "op: \"NoOp\"\n",
      "input: \"^GradientDescent_1/update_Variable_2/ApplyGradientDescent\"\n",
      "input: \"^GradientDescent_1/update_Variable_3/ApplyGradientDescent\"\n",
      "\n",
      "name: \"init_1\"\n",
      "op: \"NoOp\"\n",
      "input: \"^Variable/Assign\"\n",
      "input: \"^Variable_1/Assign\"\n",
      "input: \"^Variable_2/Assign\"\n",
      "input: \"^Variable_3/Assign\"\n",
      "\n"
     ]
    }
   ],
   "source": [
    "# 1.4 Bulid training graph\n",
    "loss = tf.reduce_mean(tf.square(y-y_data))\n",
    "optimizer = tf.train.GradientDescentOptimizer(0.5)\n",
    "train = optimizer.minimize(loss)\n",
    "init = tf.initialize_all_variables()\n",
    "\n",
    "# see what 'loss', 'optimizer' and 'train'\n",
    "print(\"loss:\", loss)\n",
    "print(\"optimizer:\", optimizer)\n",
    "print(\"train:\", train)\n",
    "print(init)"
   ]
  },
  {
   "cell_type": "code",
   "execution_count": 20,
   "metadata": {},
   "outputs": [],
   "source": [
    "# 1.5 See what we have built\n",
    "#print(tf.get_default_graph().as_graph_def())"
   ]
  },
  {
   "cell_type": "code",
   "execution_count": 21,
   "metadata": {},
   "outputs": [
    {
     "name": "stdout",
     "output_type": "stream",
     "text": [
      "[array([ 0.8766278], dtype=float32), array([ 0.], dtype=float32)]\n"
     ]
    }
   ],
   "source": [
    "#1.6 Craete a session and launch graph\n",
    "sess = tf.Session()\n",
    "sess.run(init)\n",
    "y_initial_values = sess.run(y)\n",
    "\n",
    "# see the initial W and b values\n",
    "print(sess.run([W, b]))"
   ]
  },
  {
   "cell_type": "code",
   "execution_count": 22,
   "metadata": {},
   "outputs": [
    {
     "name": "stdout",
     "output_type": "stream",
     "text": [
      "0 [array([ 0.76499522], dtype=float32), array([-0.0998015], dtype=float32)]\n",
      "20 [array([ 0.29513437], dtype=float32), array([ 0.19284134], dtype=float32)]\n",
      "40 [array([ 0.1564132], dtype=float32), array([ 0.26880002], dtype=float32)]\n",
      "60 [array([ 0.11671599], dtype=float32), array([ 0.29053676], dtype=float32)]\n",
      "80 [array([ 0.10535603], dtype=float32), array([ 0.29675704], dtype=float32)]\n",
      "100 [array([ 0.10210519], dtype=float32), array([ 0.29853711], dtype=float32)]\n",
      "120 [array([ 0.1011749], dtype=float32), array([ 0.29904649], dtype=float32)]\n",
      "140 [array([ 0.10090869], dtype=float32), array([ 0.29919225], dtype=float32)]\n",
      "160 [array([ 0.10083251], dtype=float32), array([ 0.29923397], dtype=float32)]\n",
      "180 [array([ 0.10081072], dtype=float32), array([ 0.29924589], dtype=float32)]\n",
      "200 [array([ 0.10080448], dtype=float32), array([ 0.29924932], dtype=float32)]\n",
      "[array([ 0.10080448], dtype=float32), array([ 0.29924932], dtype=float32)]\n"
     ]
    }
   ],
   "source": [
    "#1.7 Perform training\n",
    "for step in range(201):\n",
    "    sess.run(train)\n",
    "    if step % 20 == 0:\n",
    "        print(step, sess.run([W, b]))\n",
    "\n",
    "print(sess.run([W, b]))"
   ]
  },
  {
   "cell_type": "code",
   "execution_count": 23,
   "metadata": {},
   "outputs": [
    {
     "data": {
      "text/plain": [
       "(0, 1.0)"
      ]
     },
     "execution_count": 23,
     "metadata": {},
     "output_type": "execute_result"
    },
    {
     "data": {
      "image/png": "[encoded data removed]",
      "text/plain": [
       "<matplotlib.figure.Figure at 0x7052940>"
      ]
     },
     "metadata": {},
     "output_type": "display_data"
    }
   ],
   "source": [
    "#1.8 Compare\n",
    "pylab.plot(x_data, y_data, '.', label = \"target_values\")\n",
    "pylab.plot(x_data, y_initial_values, '.', label = \"initial_values\")\n",
    "pylab.plot(x_data, sess.run(y), '.', label = \"trained_valeus\")\n",
    "pylab.legend()\n",
    "pylab.ylim(0, 1.0)"
   ]
  },
  {
   "cell_type": "code",
   "execution_count": null,
   "metadata": {
    "collapsed": true
   },
   "outputs": [],
   "source": []
  }
 ],
 "metadata": {
  "kernelspec": {
   "display_name": "Python 3",
   "language": "python",
   "name": "python3"
  },
  "language_info": {
   "codemirror_mode": {
    "name": "ipython",
    "version": 3
   },
   "file_extension": ".py",
   "mimetype": "text/x-python",
   "name": "python",
   "nbconvert_exporter": "python",
   "pygments_lexer": "ipython3",
   "version": "3.6.1"
  }
 },
 "nbformat": 4,
 "nbformat_minor": 2
}
